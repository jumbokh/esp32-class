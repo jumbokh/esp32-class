{
  "nbformat": 4,
  "nbformat_minor": 0,
  "metadata": {
    "colab": {
      "name": "voice_model.ipynb",
      "provenance": [],
      "collapsed_sections": []
    },
    "kernelspec": {
      "name": "python3",
      "display_name": "Python 3"
    }
  },
  "cells": [
    {
      "cell_type": "code",
      "metadata": {
        "id": "OXocxvkrQk4V",
        "colab_type": "code",
        "outputId": "31bde5bd-38eb-4702-f737-9cd3dcea9ef7",
        "colab": {
          "resources": {
            "http://localhost:8080/nbextensions/google.colab/files.js": {
              "data": "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",
              "ok": true,
              "headers": [
                [
                  "content-type",
                  "application/javascript"
                ]
              ],
              "status": 200,
              "status_text": ""
            }
          },
          "base_uri": "https://localhost:8080/",
          "height": 41
        }
      },
      "source": [
        "# 匯入「keras_lite_convertor.py」到 Colab\n",
        "\n",
        "from google.colab import files\n",
        "uploaded = files.upload()       # 匯入檔案"
      ],
      "execution_count": 0,
      "outputs": [
        {
          "output_type": "display_data",
          "data": {
            "text/html": [
              "\n",
              "     <input type=\"file\" id=\"files-5f655b39-cfd7-48b5-bdff-1a7cd7ef74bb\" name=\"files[]\" multiple disabled />\n",
              "     <output id=\"result-5f655b39-cfd7-48b5-bdff-1a7cd7ef74bb\">\n",
              "      Upload widget is only available when the cell has been executed in the\n",
              "      current browser session. Please rerun this cell to enable.\n",
              "      </output>\n",
              "      <script src=\"/nbextensions/google.colab/files.js\"></script> "
            ],
            "text/plain": [
              "<IPython.core.display.HTML object>"
            ]
          },
          "metadata": {
            "tags": []
          }
        }
      ]
    },
    {
      "cell_type": "code",
      "metadata": {
        "id": "SmVkMGozQenO",
        "colab_type": "code",
        "colab": {}
      },
      "source": [
        "# 讀取 voice_data 資料夾內的檔案\n",
        "\n",
        "import keras_lite_convertor as kc\n",
        "\n",
        "path_name = 'voice_data'   \n",
        "Data_reader = kc.Data_reader(path_name, \n",
        "                             mode='categorical',     # categorical 適用於多元分類\n",
        "                             label_name = ['on','off','others'])   # 標籤名稱\n",
        "data, label = Data_reader.read()"
      ],
      "execution_count": 0,
      "outputs": []
    },
    {
      "cell_type": "code",
      "metadata": {
        "id": "K2WL9wRuGnsq",
        "colab_type": "code",
        "colab": {}
      },
      "source": [
        "# 資料預處理\n",
        "\n",
        "# 取資料中的 90% 當作訓練集\n",
        "split_num = int(len(data)*0.9) \n",
        "train_data=data[:split_num]\n",
        "train_label=label[:split_num]    \n",
        "\n",
        "# 正規化\n",
        "mean = train_data.mean() # 平均數\n",
        "data -= mean\n",
        "std = train_data.std()   # 標準差\n",
        "data /= std"
      ],
      "execution_count": 0,
      "outputs": []
    },
    {
      "cell_type": "code",
      "metadata": {
        "id": "H6gKlaloKrBa",
        "colab_type": "code",
        "outputId": "211d9e86-e809-41ae-d77f-a69c075cd572",
        "colab": {
          "base_uri": "https://localhost:8080/",
          "height": 67
        }
      },
      "source": [
        "# 訓練集、驗證集、測試集的資料形狀\n",
        "\n",
        "# 訓練集\n",
        "print(train_data.shape)    \n",
        "\n",
        "# 驗證集\n",
        "validation_data=data[split_num:-5]  \n",
        "print(validation_data.shape)\n",
        "validation_label=label[split_num:-5]   \n",
        "\n",
        "# 測試集\n",
        "test_data=data[-5:]     \n",
        "print(test_data.shape)\n",
        "test_label=label[-5:]"
      ],
      "execution_count": 0,
      "outputs": [
        {
          "output_type": "stream",
          "text": [
            "(270, 400)\n",
            "(25, 400)\n",
            "(5, 400)\n"
          ],
          "name": "stdout"
        }
      ]
    },
    {
      "cell_type": "code",
      "metadata": {
        "id": "wuxV2tBETFNb",
        "colab_type": "code",
        "outputId": "a1004f9c-0969-459d-8ed2-5c6f7f94a972",
        "colab": {
          "base_uri": "https://localhost:8080/",
          "height": 454
        }
      },
      "source": [
        "# 建立卷積神經網路\n",
        "\n",
        "from tensorflow.keras.models import Sequential\n",
        "from tensorflow.keras import layers\n",
        "\n",
        "model = Sequential()\n",
        "model.add(layers.Reshape((400,1), input_shape=(400,)))\n",
        "model.add(layers.Conv1D(4,3,activation = 'relu',      # 卷積層\n",
        "                        padding='valid'))\n",
        "model.add(layers.MaxPooling1D())                      # 池化層\n",
        "model.add(layers.Conv1D(4,3,activation = 'relu',\n",
        "                        padding='valid'))\n",
        "model.add(layers.MaxPooling1D())\n",
        "model.add(layers.Conv1D(8,3,activation = 'relu',\n",
        "                        padding='valid'))\n",
        "model.add(layers.MaxPooling1D())\n",
        "model.add(layers.Flatten())   # 展平層\n",
        "model.add(layers.Dense(3,activation = 'softmax'))# 輸出層的啟動函數為 softmax\n",
        "\n",
        "# 顯示模型資訊\n",
        "model.summary()"
      ],
      "execution_count": 0,
      "outputs": [
        {
          "output_type": "stream",
          "text": [
            "Model: \"sequential\"\n",
            "_________________________________________________________________\n",
            "Layer (type)                 Output Shape              Param #   \n",
            "=================================================================\n",
            "reshape (Reshape)            (None, 400, 1)            0         \n",
            "_________________________________________________________________\n",
            "conv1d (Conv1D)              (None, 398, 4)            16        \n",
            "_________________________________________________________________\n",
            "max_pooling1d (MaxPooling1D) (None, 199, 4)            0         \n",
            "_________________________________________________________________\n",
            "conv1d_1 (Conv1D)            (None, 197, 4)            52        \n",
            "_________________________________________________________________\n",
            "max_pooling1d_1 (MaxPooling1 (None, 98, 4)             0         \n",
            "_________________________________________________________________\n",
            "conv1d_2 (Conv1D)            (None, 96, 8)             104       \n",
            "_________________________________________________________________\n",
            "max_pooling1d_2 (MaxPooling1 (None, 48, 8)             0         \n",
            "_________________________________________________________________\n",
            "flatten (Flatten)            (None, 384)               0         \n",
            "_________________________________________________________________\n",
            "dense (Dense)                (None, 3)                 1155      \n",
            "=================================================================\n",
            "Total params: 1,327\n",
            "Trainable params: 1,327\n",
            "Non-trainable params: 0\n",
            "_________________________________________________________________\n"
          ],
          "name": "stdout"
        }
      ]
    },
    {
      "cell_type": "code",
      "metadata": {
        "id": "l1MV_cDSTSXN",
        "colab_type": "code",
        "outputId": "ab74b6a6-aefe-483e-b3a2-f45fdb6c60af",
        "colab": {
          "base_uri": "https://localhost:8080/",
          "height": 1000
        }
      },
      "source": [
        "# 編譯及訓練模型\n",
        "\n",
        "model.compile(optimizer='adam',loss='categorical_crossentropy',metrics=['acc'])\n",
        "train_history = model.fit(train_data,train_label,                              # 訓練集\n",
        "                          validation_data=(validation_data,validation_label),  # 驗證集\n",
        "                          epochs=60)   # 訓練週期"
      ],
      "execution_count": 0,
      "outputs": [
        {
          "output_type": "stream",
          "text": [
            "Epoch 1/60\n",
            "9/9 [==============================] - 0s 51ms/step - loss: 1.1328 - acc: 0.3778 - val_loss: 1.0945 - val_acc: 0.3200\n",
            "Epoch 2/60\n",
            "9/9 [==============================] - 0s 12ms/step - loss: 1.0571 - acc: 0.4370 - val_loss: 1.0319 - val_acc: 0.5600\n",
            "Epoch 3/60\n",
            "9/9 [==============================] - 0s 11ms/step - loss: 0.9864 - acc: 0.6185 - val_loss: 0.9666 - val_acc: 0.7600\n",
            "Epoch 4/60\n",
            "9/9 [==============================] - 0s 11ms/step - loss: 0.9068 - acc: 0.7111 - val_loss: 0.8861 - val_acc: 0.7200\n",
            "Epoch 5/60\n",
            "9/9 [==============================] - 0s 11ms/step - loss: 0.8171 - acc: 0.7704 - val_loss: 0.7995 - val_acc: 0.8400\n",
            "Epoch 6/60\n",
            "9/9 [==============================] - 0s 11ms/step - loss: 0.7170 - acc: 0.8074 - val_loss: 0.6925 - val_acc: 0.8800\n",
            "Epoch 7/60\n",
            "9/9 [==============================] - 0s 11ms/step - loss: 0.6176 - acc: 0.8593 - val_loss: 0.5902 - val_acc: 0.9200\n",
            "Epoch 8/60\n",
            "9/9 [==============================] - 0s 11ms/step - loss: 0.5197 - acc: 0.9037 - val_loss: 0.4983 - val_acc: 1.0000\n",
            "Epoch 9/60\n",
            "9/9 [==============================] - 0s 12ms/step - loss: 0.4334 - acc: 0.9407 - val_loss: 0.4001 - val_acc: 1.0000\n",
            "Epoch 10/60\n",
            "9/9 [==============================] - 0s 12ms/step - loss: 0.3620 - acc: 0.9556 - val_loss: 0.3263 - val_acc: 1.0000\n",
            "Epoch 11/60\n",
            "9/9 [==============================] - 0s 11ms/step - loss: 0.2999 - acc: 0.9704 - val_loss: 0.2631 - val_acc: 1.0000\n",
            "Epoch 12/60\n",
            "9/9 [==============================] - 0s 11ms/step - loss: 0.2500 - acc: 0.9704 - val_loss: 0.2102 - val_acc: 1.0000\n",
            "Epoch 13/60\n",
            "9/9 [==============================] - 0s 11ms/step - loss: 0.2048 - acc: 0.9741 - val_loss: 0.1658 - val_acc: 1.0000\n",
            "Epoch 14/60\n",
            "9/9 [==============================] - 0s 11ms/step - loss: 0.1705 - acc: 0.9778 - val_loss: 0.1347 - val_acc: 1.0000\n",
            "Epoch 15/60\n",
            "9/9 [==============================] - 0s 10ms/step - loss: 0.1411 - acc: 0.9815 - val_loss: 0.1096 - val_acc: 1.0000\n",
            "Epoch 16/60\n",
            "9/9 [==============================] - 0s 10ms/step - loss: 0.1205 - acc: 0.9852 - val_loss: 0.0908 - val_acc: 1.0000\n",
            "Epoch 17/60\n",
            "9/9 [==============================] - 0s 10ms/step - loss: 0.1032 - acc: 0.9889 - val_loss: 0.0766 - val_acc: 1.0000\n",
            "Epoch 18/60\n",
            "9/9 [==============================] - 0s 11ms/step - loss: 0.0872 - acc: 0.9889 - val_loss: 0.0659 - val_acc: 1.0000\n",
            "Epoch 19/60\n",
            "9/9 [==============================] - 0s 11ms/step - loss: 0.0749 - acc: 0.9926 - val_loss: 0.0561 - val_acc: 1.0000\n",
            "Epoch 20/60\n",
            "9/9 [==============================] - 0s 11ms/step - loss: 0.0695 - acc: 0.9889 - val_loss: 0.0481 - val_acc: 1.0000\n",
            "Epoch 21/60\n",
            "9/9 [==============================] - 0s 10ms/step - loss: 0.0648 - acc: 0.9926 - val_loss: 0.0435 - val_acc: 1.0000\n",
            "Epoch 22/60\n",
            "9/9 [==============================] - 0s 10ms/step - loss: 0.0554 - acc: 0.9889 - val_loss: 0.0380 - val_acc: 1.0000\n",
            "Epoch 23/60\n",
            "9/9 [==============================] - 0s 10ms/step - loss: 0.0459 - acc: 0.9963 - val_loss: 0.0350 - val_acc: 1.0000\n",
            "Epoch 24/60\n",
            "9/9 [==============================] - 0s 10ms/step - loss: 0.0413 - acc: 0.9963 - val_loss: 0.0290 - val_acc: 1.0000\n",
            "Epoch 25/60\n",
            "9/9 [==============================] - 0s 10ms/step - loss: 0.0373 - acc: 0.9963 - val_loss: 0.0263 - val_acc: 1.0000\n",
            "Epoch 26/60\n",
            "9/9 [==============================] - 0s 10ms/step - loss: 0.0337 - acc: 0.9963 - val_loss: 0.0245 - val_acc: 1.0000\n",
            "Epoch 27/60\n",
            "9/9 [==============================] - 0s 10ms/step - loss: 0.0306 - acc: 0.9963 - val_loss: 0.0213 - val_acc: 1.0000\n",
            "Epoch 28/60\n",
            "9/9 [==============================] - 0s 10ms/step - loss: 0.0282 - acc: 0.9963 - val_loss: 0.0191 - val_acc: 1.0000\n",
            "Epoch 29/60\n",
            "9/9 [==============================] - 0s 11ms/step - loss: 0.0263 - acc: 0.9963 - val_loss: 0.0183 - val_acc: 1.0000\n",
            "Epoch 30/60\n",
            "9/9 [==============================] - 0s 10ms/step - loss: 0.0239 - acc: 0.9963 - val_loss: 0.0160 - val_acc: 1.0000\n",
            "Epoch 31/60\n",
            "9/9 [==============================] - 0s 10ms/step - loss: 0.0225 - acc: 0.9963 - val_loss: 0.0151 - val_acc: 1.0000\n",
            "Epoch 32/60\n",
            "9/9 [==============================] - 0s 10ms/step - loss: 0.0209 - acc: 0.9963 - val_loss: 0.0136 - val_acc: 1.0000\n",
            "Epoch 33/60\n",
            "9/9 [==============================] - 0s 12ms/step - loss: 0.0196 - acc: 1.0000 - val_loss: 0.0134 - val_acc: 1.0000\n",
            "Epoch 34/60\n",
            "9/9 [==============================] - 0s 10ms/step - loss: 0.0184 - acc: 1.0000 - val_loss: 0.0114 - val_acc: 1.0000\n",
            "Epoch 35/60\n",
            "9/9 [==============================] - 0s 10ms/step - loss: 0.0165 - acc: 1.0000 - val_loss: 0.0110 - val_acc: 1.0000\n",
            "Epoch 36/60\n",
            "9/9 [==============================] - 0s 10ms/step - loss: 0.0151 - acc: 1.0000 - val_loss: 0.0101 - val_acc: 1.0000\n",
            "Epoch 37/60\n",
            "9/9 [==============================] - 0s 10ms/step - loss: 0.0145 - acc: 1.0000 - val_loss: 0.0094 - val_acc: 1.0000\n",
            "Epoch 38/60\n",
            "9/9 [==============================] - 0s 10ms/step - loss: 0.0133 - acc: 1.0000 - val_loss: 0.0086 - val_acc: 1.0000\n",
            "Epoch 39/60\n",
            "9/9 [==============================] - 0s 10ms/step - loss: 0.0132 - acc: 1.0000 - val_loss: 0.0083 - val_acc: 1.0000\n",
            "Epoch 40/60\n",
            "9/9 [==============================] - 0s 10ms/step - loss: 0.0120 - acc: 1.0000 - val_loss: 0.0082 - val_acc: 1.0000\n",
            "Epoch 41/60\n",
            "9/9 [==============================] - 0s 10ms/step - loss: 0.0113 - acc: 1.0000 - val_loss: 0.0071 - val_acc: 1.0000\n",
            "Epoch 42/60\n",
            "9/9 [==============================] - 0s 10ms/step - loss: 0.0108 - acc: 1.0000 - val_loss: 0.0067 - val_acc: 1.0000\n",
            "Epoch 43/60\n",
            "9/9 [==============================] - 0s 11ms/step - loss: 0.0100 - acc: 1.0000 - val_loss: 0.0063 - val_acc: 1.0000\n",
            "Epoch 44/60\n",
            "9/9 [==============================] - 0s 10ms/step - loss: 0.0094 - acc: 1.0000 - val_loss: 0.0059 - val_acc: 1.0000\n",
            "Epoch 45/60\n",
            "9/9 [==============================] - 0s 10ms/step - loss: 0.0088 - acc: 1.0000 - val_loss: 0.0061 - val_acc: 1.0000\n",
            "Epoch 46/60\n",
            "9/9 [==============================] - 0s 11ms/step - loss: 0.0085 - acc: 1.0000 - val_loss: 0.0053 - val_acc: 1.0000\n",
            "Epoch 47/60\n",
            "9/9 [==============================] - 0s 10ms/step - loss: 0.0080 - acc: 1.0000 - val_loss: 0.0050 - val_acc: 1.0000\n",
            "Epoch 48/60\n",
            "9/9 [==============================] - 0s 10ms/step - loss: 0.0077 - acc: 1.0000 - val_loss: 0.0050 - val_acc: 1.0000\n",
            "Epoch 49/60\n",
            "9/9 [==============================] - 0s 10ms/step - loss: 0.0073 - acc: 1.0000 - val_loss: 0.0045 - val_acc: 1.0000\n",
            "Epoch 50/60\n",
            "9/9 [==============================] - 0s 11ms/step - loss: 0.0068 - acc: 1.0000 - val_loss: 0.0043 - val_acc: 1.0000\n",
            "Epoch 51/60\n",
            "9/9 [==============================] - 0s 10ms/step - loss: 0.0067 - acc: 1.0000 - val_loss: 0.0044 - val_acc: 1.0000\n",
            "Epoch 52/60\n",
            "9/9 [==============================] - 0s 11ms/step - loss: 0.0062 - acc: 1.0000 - val_loss: 0.0040 - val_acc: 1.0000\n",
            "Epoch 53/60\n",
            "9/9 [==============================] - 0s 10ms/step - loss: 0.0061 - acc: 1.0000 - val_loss: 0.0037 - val_acc: 1.0000\n",
            "Epoch 54/60\n",
            "9/9 [==============================] - 0s 10ms/step - loss: 0.0060 - acc: 1.0000 - val_loss: 0.0037 - val_acc: 1.0000\n",
            "Epoch 55/60\n",
            "9/9 [==============================] - 0s 10ms/step - loss: 0.0055 - acc: 1.0000 - val_loss: 0.0034 - val_acc: 1.0000\n",
            "Epoch 56/60\n",
            "9/9 [==============================] - 0s 10ms/step - loss: 0.0052 - acc: 1.0000 - val_loss: 0.0033 - val_acc: 1.0000\n",
            "Epoch 57/60\n",
            "9/9 [==============================] - 0s 11ms/step - loss: 0.0050 - acc: 1.0000 - val_loss: 0.0033 - val_acc: 1.0000\n",
            "Epoch 58/60\n",
            "9/9 [==============================] - 0s 10ms/step - loss: 0.0048 - acc: 1.0000 - val_loss: 0.0030 - val_acc: 1.0000\n",
            "Epoch 59/60\n",
            "9/9 [==============================] - 0s 10ms/step - loss: 0.0048 - acc: 1.0000 - val_loss: 0.0028 - val_acc: 1.0000\n",
            "Epoch 60/60\n",
            "9/9 [==============================] - 0s 11ms/step - loss: 0.0044 - acc: 1.0000 - val_loss: 0.0029 - val_acc: 1.0000\n"
          ],
          "name": "stdout"
        }
      ]
    },
    {
      "cell_type": "code",
      "metadata": {
        "id": "lBL3BSJuKayr",
        "colab_type": "code",
        "outputId": "4c474038-3e52-4fd3-af6c-e32d4bdc78d3",
        "colab": {
          "base_uri": "https://localhost:8080/",
          "height": 235
        }
      },
      "source": [
        "# 測試模型\n",
        "\n",
        "print('predict:')\n",
        "print(model.predict(test_data))\n",
        "print()\n",
        "print('real:')\n",
        "print(test_label)"
      ],
      "execution_count": 0,
      "outputs": [
        {
          "output_type": "stream",
          "text": [
            "predict:\n",
            "[[2.0708303e-05 9.9994206e-01 3.7170194e-05]\n",
            " [6.1850733e-05 9.9990249e-01 3.5608984e-05]\n",
            " [9.6273176e-02 8.6310470e-01 4.0622141e-02]\n",
            " [9.9651766e-01 2.6654743e-04 3.2157598e-03]\n",
            " [6.4241858e-03 8.9158374e-04 9.9268430e-01]]\n",
            "\n",
            "real:\n",
            "[[0. 1. 0.]\n",
            " [0. 1. 0.]\n",
            " [0. 1. 0.]\n",
            " [1. 0. 0.]\n",
            " [0. 0. 1.]]\n"
          ],
          "name": "stdout"
        }
      ]
    },
    {
      "cell_type": "code",
      "metadata": {
        "id": "QCSAidybTYg7",
        "colab_type": "code",
        "colab": {}
      },
      "source": [
        "# 儲存模型\n",
        "\n",
        "kc.save(model, 'voice_model.json')"
      ],
      "execution_count": 0,
      "outputs": []
    },
    {
      "cell_type": "code",
      "metadata": {
        "id": "nJYeQ37jTdr7",
        "colab_type": "code",
        "outputId": "d7c12fcf-f815-486d-bd98-95e640a4f695",
        "colab": {
          "base_uri": "https://localhost:8080/",
          "height": 50
        }
      },
      "source": [
        "# 顯示資訊\n",
        "\n",
        "print('mean=', mean)\n",
        "print('std=', std)"
      ],
      "execution_count": 0,
      "outputs": [
        {
          "output_type": "stream",
          "text": [
            "mean= 112.06158333333333\n",
            "std= 245.64491731346183\n"
          ],
          "name": "stdout"
        }
      ]
    },
    {
      "cell_type": "code",
      "metadata": {
        "id": "KaLm7-lsGyY7",
        "colab_type": "code",
        "colab": {}
      },
      "source": [
        ""
      ],
      "execution_count": 0,
      "outputs": []
    }
  ]
}